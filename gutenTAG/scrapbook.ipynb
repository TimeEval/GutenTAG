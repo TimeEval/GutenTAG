{
 "cells": [
  {
   "cell_type": "code",
   "execution_count": 4,
   "metadata": {},
   "outputs": [],
   "source": [
    "import os\n",
    "import pathlib\n",
    "\n",
    "import numpy as np\n",
    "import pandas as pd"
   ]
  },
  {
   "cell_type": "code",
   "execution_count": 5,
   "metadata": {},
   "outputs": [],
   "source": [
    "PROJECT_DIR = pathlib.Path().resolve().parent"
   ]
  },
  {
   "cell_type": "code",
   "execution_count": 6,
   "metadata": {},
   "outputs": [],
   "source": [
    "LISA_PATH = PROJECT_DIR.joinpath('tests/imported_timeseries/lisas/LSEFFM01.csv')"
   ]
  },
  {
   "cell_type": "code",
   "execution_count": 11,
   "metadata": {},
   "outputs": [],
   "source": [
    "df= pd.read_csv(LISA_PATH,index_col='timestamp')"
   ]
  },
  {
   "cell_type": "code",
   "execution_count": 12,
   "metadata": {},
   "outputs": [
    {
     "data": {
      "text/html": [
       "<div>\n",
       "<style scoped>\n",
       "    .dataframe tbody tr th:only-of-type {\n",
       "        vertical-align: middle;\n",
       "    }\n",
       "\n",
       "    .dataframe tbody tr th {\n",
       "        vertical-align: top;\n",
       "    }\n",
       "\n",
       "    .dataframe thead th {\n",
       "        text-align: right;\n",
       "    }\n",
       "</style>\n",
       "<table border=\"1\" class=\"dataframe\">\n",
       "  <thead>\n",
       "    <tr style=\"text-align: right;\">\n",
       "      <th></th>\n",
       "      <th>LSEFFM01</th>\n",
       "    </tr>\n",
       "    <tr>\n",
       "      <th>timestamp</th>\n",
       "      <th></th>\n",
       "    </tr>\n",
       "  </thead>\n",
       "  <tbody>\n",
       "    <tr>\n",
       "      <th>2022-10-10 12:40:00+00:00</th>\n",
       "      <td>7.669962</td>\n",
       "    </tr>\n",
       "    <tr>\n",
       "      <th>2022-10-10 12:41:00+00:00</th>\n",
       "      <td>7.664816</td>\n",
       "    </tr>\n",
       "    <tr>\n",
       "      <th>2022-10-10 12:42:00+00:00</th>\n",
       "      <td>7.659171</td>\n",
       "    </tr>\n",
       "    <tr>\n",
       "      <th>2022-10-10 12:43:00+00:00</th>\n",
       "      <td>7.666222</td>\n",
       "    </tr>\n",
       "    <tr>\n",
       "      <th>2022-10-10 12:44:00+00:00</th>\n",
       "      <td>7.670429</td>\n",
       "    </tr>\n",
       "    <tr>\n",
       "      <th>...</th>\n",
       "      <td>...</td>\n",
       "    </tr>\n",
       "    <tr>\n",
       "      <th>2022-10-13 23:55:00+00:00</th>\n",
       "      <td>7.713785</td>\n",
       "    </tr>\n",
       "    <tr>\n",
       "      <th>2022-10-13 23:56:00+00:00</th>\n",
       "      <td>7.702104</td>\n",
       "    </tr>\n",
       "    <tr>\n",
       "      <th>2022-10-13 23:57:00+00:00</th>\n",
       "      <td>7.698936</td>\n",
       "    </tr>\n",
       "    <tr>\n",
       "      <th>2022-10-13 23:58:00+00:00</th>\n",
       "      <td>7.707512</td>\n",
       "    </tr>\n",
       "    <tr>\n",
       "      <th>2022-10-13 23:59:00+00:00</th>\n",
       "      <td>7.705713</td>\n",
       "    </tr>\n",
       "  </tbody>\n",
       "</table>\n",
       "<p>5000 rows × 1 columns</p>\n",
       "</div>"
      ],
      "text/plain": [
       "                           LSEFFM01\n",
       "timestamp                          \n",
       "2022-10-10 12:40:00+00:00  7.669962\n",
       "2022-10-10 12:41:00+00:00  7.664816\n",
       "2022-10-10 12:42:00+00:00  7.659171\n",
       "2022-10-10 12:43:00+00:00  7.666222\n",
       "2022-10-10 12:44:00+00:00  7.670429\n",
       "...                             ...\n",
       "2022-10-13 23:55:00+00:00  7.713785\n",
       "2022-10-13 23:56:00+00:00  7.702104\n",
       "2022-10-13 23:57:00+00:00  7.698936\n",
       "2022-10-13 23:58:00+00:00  7.707512\n",
       "2022-10-13 23:59:00+00:00  7.705713\n",
       "\n",
       "[5000 rows x 1 columns]"
      ]
     },
     "execution_count": 12,
     "metadata": {},
     "output_type": "execute_result"
    }
   ],
   "source": [
    "df"
   ]
  },
  {
   "cell_type": "code",
   "execution_count": 23,
   "metadata": {},
   "outputs": [
    {
     "data": {
      "text/plain": [
       "array([7.669962  , 7.66481579, 7.65917137, ..., 7.6989362 , 7.70751219,\n",
       "       7.70571282])"
      ]
     },
     "execution_count": 23,
     "metadata": {},
     "output_type": "execute_result"
    }
   ],
   "source": [
    "d = df.values\n",
    "d = [val[0] for val in d]\n",
    "d = np.array(d)\n",
    "d"
   ]
  },
  {
   "cell_type": "code",
   "execution_count": 24,
   "metadata": {},
   "outputs": [
    {
     "name": "stdout",
     "output_type": "stream",
     "text": [
      "<class 'numpy.ndarray'>\n",
      "<class 'numpy.float64'>\n"
     ]
    },
    {
     "ename": "IndexError",
     "evalue": "invalid index to scalar variable.",
     "output_type": "error",
     "traceback": [
      "\u001b[0;31m---------------------------------------------------------------------------\u001b[0m",
      "\u001b[0;31mIndexError\u001b[0m                                Traceback (most recent call last)",
      "Cell \u001b[0;32mIn[24], line 3\u001b[0m\n\u001b[1;32m      1\u001b[0m \u001b[39mprint\u001b[39m(\u001b[39mtype\u001b[39m(d))\n\u001b[1;32m      2\u001b[0m \u001b[39mprint\u001b[39m(\u001b[39mtype\u001b[39m(d[\u001b[39m0\u001b[39m]))\n\u001b[0;32m----> 3\u001b[0m \u001b[39mprint\u001b[39m(\u001b[39mtype\u001b[39m(d[\u001b[39m0\u001b[39;49m][\u001b[39m0\u001b[39;49m]))\n",
      "\u001b[0;31mIndexError\u001b[0m: invalid index to scalar variable."
     ]
    }
   ],
   "source": [
    "print(type(d))\n",
    "print(type(d[0]))"
   ]
  },
  {
   "cell_type": "code",
   "execution_count": 26,
   "metadata": {},
   "outputs": [
    {
     "data": {
      "text/plain": [
       "5000"
      ]
     },
     "execution_count": 26,
     "metadata": {},
     "output_type": "execute_result"
    }
   ],
   "source": [
    "len(d)"
   ]
  },
  {
   "cell_type": "code",
   "execution_count": 28,
   "metadata": {},
   "outputs": [
    {
     "data": {
      "text/plain": [
       "(5000,)"
      ]
     },
     "execution_count": 28,
     "metadata": {},
     "output_type": "execute_result"
    }
   ],
   "source": [
    "np.shape(d)"
   ]
  }
 ],
 "metadata": {
  "kernelspec": {
   "display_name": "Python 3.11.0 ('venv': venv)",
   "language": "python",
   "name": "python3"
  },
  "language_info": {
   "codemirror_mode": {
    "name": "ipython",
    "version": 3
   },
   "file_extension": ".py",
   "mimetype": "text/x-python",
   "name": "python",
   "nbconvert_exporter": "python",
   "pygments_lexer": "ipython3",
   "version": "3.11.0 (main, Nov  3 2022, 09:21:50) [GCC 9.4.0]"
  },
  "orig_nbformat": 4,
  "vscode": {
   "interpreter": {
    "hash": "4218522b5e212b8b799cadcdc02c40d6d9cba6466da3247d99425a7c717a4e5b"
   }
  }
 },
 "nbformat": 4,
 "nbformat_minor": 2
}
